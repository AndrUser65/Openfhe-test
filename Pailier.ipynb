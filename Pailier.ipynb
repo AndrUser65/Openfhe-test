{
 "cells": [
  {
   "cell_type": "code",
   "execution_count": 3,
   "metadata": {},
   "outputs": [],
   "source": [
    "import numpy as np\n",
    "import math\n",
    "import random"
   ]
  },
  {
   "cell_type": "code",
   "execution_count": 8,
   "metadata": {},
   "outputs": [],
   "source": [
    "def find_lcm(p, q):\n",
    "   if p>q:\n",
    "       bigger_number = p\n",
    "   else:\n",
    "       bigger_number = q\n",
    "\n",
    "   while(True):\n",
    "       if((bigger_number % p == 0) and (bigger_number % q == 0)):\n",
    "           lcm_number = bigger_number\n",
    "           break\n",
    "       bigger_number += 1\n",
    "\n",
    "   return lcm_number\n",
    "\n",
    "def check_gcd(x, y):\n",
    "    checksize=False\n",
    "    if x > y:\n",
    "        small = y\n",
    "    else:\n",
    "        small = x\n",
    "    for i in range(1, small + 1):\n",
    "        if((x % i == 0) and (y % i == 0)):\n",
    "            gcd = i\n",
    "             \n",
    "    if(gcd==1):\n",
    "        checksize=True\n",
    "    else:\n",
    "        checksize=False\n",
    "    return checksize\n",
    "\n",
    "def lx(x):\n",
    "    y = (x-1)/n\n",
    "    assert y - int(y) == 0\n",
    "    return int(y)\n",
    "\n",
    "def encrypt(m, r, n, g):\n",
    "    assert math.gcd(r, n) == 1\n",
    "    c = ( pow(g, m, n*n) * pow(r, n, n*n) ) % (n*n)\n",
    "    return c\n",
    " \n",
    "def decrypt(c, lmbda, n, mu):\n",
    "    p = ( lx(pow(c, lmbda, n*n)) * mu ) % n\n",
    "    return p"
   ]
  },
  {
   "cell_type": "code",
   "execution_count": 17,
   "metadata": {},
   "outputs": [
    {
     "name": "stdout",
     "output_type": "stream",
     "text": [
      "77\n",
      "30\n",
      "lmbda\n",
      "30\n"
     ]
    },
    {
     "ename": "ValueError",
     "evalue": "base is not invertible for the given modulus",
     "output_type": "error",
     "traceback": [
      "\u001b[1;31m---------------------------------------------------------------------------\u001b[0m",
      "\u001b[1;31mValueError\u001b[0m                                Traceback (most recent call last)",
      "Cell \u001b[1;32mIn [17], line 35\u001b[0m\n\u001b[0;32m     33\u001b[0m \u001b[38;5;28mprint\u001b[39m(lmbda)\n\u001b[0;32m     34\u001b[0m g \u001b[38;5;241m=\u001b[39m random\u001b[38;5;241m.\u001b[39mrandint(\u001b[38;5;241m0\u001b[39m, n\u001b[38;5;241m*\u001b[39mn)\n\u001b[1;32m---> 35\u001b[0m mu \u001b[38;5;241m=\u001b[39m \u001b[38;5;28;43mpow\u001b[39;49m\u001b[43m(\u001b[49m\u001b[43mlx\u001b[49m\u001b[43m(\u001b[49m\u001b[38;5;28;43mpow\u001b[39;49m\u001b[43m(\u001b[49m\u001b[43mg\u001b[49m\u001b[43m,\u001b[49m\u001b[43m \u001b[49m\u001b[43mlmbda\u001b[49m\u001b[43m,\u001b[49m\u001b[43m \u001b[49m\u001b[43mn\u001b[49m\u001b[38;5;241;43m*\u001b[39;49m\u001b[43mn\u001b[49m\u001b[43m)\u001b[49m\u001b[43m)\u001b[49m\u001b[43m,\u001b[49m\u001b[43m \u001b[49m\u001b[38;5;241;43m-\u001b[39;49m\u001b[38;5;241;43m1\u001b[39;49m\u001b[43m,\u001b[49m\u001b[43m \u001b[49m\u001b[43mn\u001b[49m\u001b[43m)\u001b[49m\n\u001b[0;32m     36\u001b[0m \u001b[38;5;28mprint\u001b[39m(n, g)\n\u001b[0;32m     37\u001b[0m \u001b[38;5;28mprint\u001b[39m()\n",
      "\u001b[1;31mValueError\u001b[0m: base is not invertible for the given modulus"
     ]
    }
   ],
   "source": [
    "p=7 \n",
    "q=11\n",
    "n=p*q\n",
    "g = random.randint(0, n*n)\n",
    "if p>q:\n",
    "       bigger_number = p\n",
    "else:\n",
    "       bigger_number = q\n",
    "\n",
    "while(True):\n",
    "       if((bigger_number % p == 0) and (bigger_number % q == 0)):\n",
    "           lmbda = bigger_number\n",
    "           break\n",
    "       bigger_number += 1\n",
    "#mu = pow(lx(pow(g, lmbda, n*n)), -1, n)\n",
    "\n",
    "\n",
    "\n",
    "phi1 = (p-1)*(q-1)\n",
    "print(n)\n",
    "if(check_gcd((p*q),(p-1)*(q-1))):  #Bitlaenge von p und q prüfen\n",
    "    n=p*q\n",
    "\n",
    "\n",
    "\n",
    "phi=find_lcm((p-1),(q-1)) #Kleinstes gemeinsames Vielfaches finden\n",
    "\n",
    "print(phi)\n",
    "\n",
    "\n",
    "print(\"lmbda\")\n",
    "lmbda = math.lcm(p-1, q-1)\n",
    "print(lmbda)\n",
    "g = random.randint(0, n*n)\n",
    "mu = pow(lx(pow(g, lmbda, n*n)), -1, n)\n",
    "print(n, g)\n",
    "print()\n",
    "\n",
    "\n",
    "\n",
    "#Vereinfachte\n",
    "g = n + 1\n",
    "lmbda = phi * 1\n",
    "mu = pow(lmbda, -1, n)\n",
    "print(n,g, lmbda,mu)\n",
    "\n",
    "\n",
    "\n",
    "\n",
    "\n",
    "\n",
    "g_quadrat=g**phi\n",
    "n_quadrat=n**n\n"
   ]
  },
  {
   "cell_type": "code",
   "execution_count": 26,
   "metadata": {},
   "outputs": [
    {
     "name": "stdout",
     "output_type": "stream",
     "text": [
      "557\n",
      "42 21\n"
     ]
    }
   ],
   "source": [
    "##Ecryption\n",
    "\n",
    "m=42\n",
    "r = random.randint(0, n)\n",
    "c = ( pow(g, m, n*n) * pow(r, n, n*n) ) % (n*n)\n",
    "print(c)\n",
    "\n",
    "p = ( lx(pow(c, lmbda, n*n)) * mu ) % n\n",
    "#c = encrypt(m, r, n, g)\n",
    "p = decrypt(c, lmbda, n, mu)\n",
    "print(m, p)\n"
   ]
  }
 ],
 "metadata": {
  "kernelspec": {
   "display_name": "Python 3",
   "language": "python",
   "name": "python3"
  },
  "language_info": {
   "codemirror_mode": {
    "name": "ipython",
    "version": 3
   },
   "file_extension": ".py",
   "mimetype": "text/x-python",
   "name": "python",
   "nbconvert_exporter": "python",
   "pygments_lexer": "ipython3",
   "version": "3.10.8"
  }
 },
 "nbformat": 4,
 "nbformat_minor": 2
}
